{
 "cells": [
  {
   "cell_type": "markdown",
   "metadata": {},
   "source": [
    "# Python dag 1: Python de basics\n",
    "Welkom bij de Python cursus. Vandaag gaan weaan de slag met programmeren in de browser. Als het goed is weet je hoe dat moet... (bekijk anders even de [introductie](./Python_intro.ipynb)) \n",
    "\n",
    "## Leerdoelen\n",
    "- Werken met variabelen en types\n",
    "- Wiskundige bewerkingen\n",
    "- Libraries inladen en gebruiken\n",
    "- Functies\n",
    "- Plotten"
   ]
  },
  {
   "cell_type": "code",
   "execution_count": null,
   "metadata": {},
   "outputs": [],
   "source": [
    "print('Hello, World!')"
   ]
  },
  {
   "cell_type": "markdown",
   "metadata": {},
   "source": [
    "## Variabelen, types en wiskundige bewerkingen\n",
    "Als je een beetje bekend bent met programmeren weet je al dat er verschillende variabele types zijn. Zo is er `int` voor de gehele getallen en `float` voor komma getallen. In sommige programma's moet je precies vertellen wat voor een variabele je wilt hebben, maar Python kan dat zelf goed bepalen. Met het commando `type` kun je precies zien wat voor een typesoort je variabele is.\n",
    "\n",
    "```{exercise}\n",
    "Run de cell hieronder en bekijk eens wat voor verschillende types de vijf aangemaakte variabelen zijn. Kende je al deze types?\n",
    "```\n"
   ]
  },
  {
   "cell_type": "code",
   "execution_count": null,
   "metadata": {},
   "outputs": [],
   "source": [
    "a = 1\n",
    "b = '2'\n",
    "c = 1.3\n",
    "d = True\n",
    "e = 'Ik ben een string'\n",
    "\n",
    "type(a)"
   ]
  },
  {
   "cell_type": "markdown",
   "metadata": {},
   "source": [
    "Variabele b is misschien niet wat we verwacht hadden. Doordat de type een `string` is, kunnen we ook niet zo makkelijk wiskundige bewerkingen doen.\n",
    "\n",
    "```{exercise} \n",
    "Probeer maar eens (in de cell hierboven) `a + b` te printen. Leg uit waarom dat niet werkt.\n",
    "```\n",
    "\n",
    "Een van de mogelijkheden die we hebben is de types te converteren. `str(a)` verandert het type van `int` naar `str`. \n",
    "\n",
    "```{exercise}\n",
    "In de cell hierboven verander het type van variabele zodat `print(a+b)` de waarde 3 terug geeft.\n",
    "```\n",
    "\n",
    "In de bovenste code cell werd Hello world geprint. Daar kunnen we meer mee:"
   ]
  },
  {
   "cell_type": "code",
   "execution_count": null,
   "metadata": {},
   "outputs": [],
   "source": [
    "print('Variabele a + b = ', a + int(b))"
   ]
  },
  {
   "cell_type": "markdown",
   "metadata": {},
   "source": [
    "Wat wellicht opvalt is dat je op deze manier dus strings en wiskundige bewerkingen kunt samenvoegen. Wat niet direct opvalt, is dat er kennelijk sprake is van een geheugen. In de hele code cell hebben we niet gespecificeerd wat a en b zijn. Die zijn in het geheugen opgeslagen."
   ]
  }
 ],
 "metadata": {
  "language_info": {
   "name": "python"
  }
 },
 "nbformat": 4,
 "nbformat_minor": 2
}
