{
 "cells": [
  {
   "cell_type": "markdown",
   "metadata": {},
   "source": [
    "# Python dag 1: De basics\n",
    "Welkom bij de Python cursus. Vandaag gaan weaan de slag met programmeren in de browser. Als het goed is weet je hoe dat moet... (bekijk anders even de [introductie](./Python_intro.ipynb)) \n",
    "\n",
    "## Leerdoelen\n",
    "- Werken met variabelen en types\n",
    "- Wiskundige bewerkingen\n",
    "- Libraries inladen en gebruiken\n",
    "- Functies\n",
    "- Plotten\n",
    "\n",
    "```{exercise}\n",
    "Run de cell hieronder.\n",
    "```"
   ]
  },
  {
   "cell_type": "code",
   "execution_count": null,
   "metadata": {},
   "outputs": [],
   "source": [
    "print('Hello, World!')"
   ]
  },
  {
   "cell_type": "markdown",
   "metadata": {},
   "source": [
    "## Variabelen, types en wiskundige bewerkingen\n",
    "Als je een beetje bekend bent met programmeren weet je al dat er verschillende variabele types zijn. Zo is er `int` voor de gehele getallen en `float` voor komma getallen. In sommige programma's moet je precies vertellen wat voor een variabele je wilt hebben, maar Python kan dat zelf goed bepalen. Met het commando `type` kun je precies zien wat voor een typesoort je variabele is.\n",
    "\n",
    "```{exercise}\n",
    "Run de cell hieronder en bekijk eens wat voor verschillende types de vijf aangemaakte variabelen zijn. Kende je al deze types?\n",
    "```\n"
   ]
  },
  {
   "cell_type": "code",
   "execution_count": null,
   "metadata": {},
   "outputs": [],
   "source": [
    "a = 1\n",
    "b = '2'\n",
    "c = 1.3\n",
    "d = True\n",
    "e = 'Ik ben een string'\n",
    "\n",
    "type(a)"
   ]
  },
  {
   "cell_type": "markdown",
   "metadata": {},
   "source": [
    "Variabele $b$ is misschien niet wat we verwacht hadden. Doordat de type een `string` is, kunnen we ook niet zo makkelijk wiskundige bewerkingen doen. \n",
    "\n",
    "```{exercise} \n",
    "Probeer maar eens (in de cell hierboven) `a + b` te printen. Leg uit waarom dat niet werkt.\n",
    "```\n",
    "\n",
    "Een van de mogelijkheden die we hebben is de types te converteren. `str(a)` verandert het type van `int` naar `str`. \n",
    "\n",
    "```{exercise}\n",
    "In de cell hierboven verander het type van variabele zodat `print(a+b)` de waarde 3 terug geeft.\n",
    "```\n",
    "\n",
    "In de bovenste code cell werd Hello world geprint. Daar kunnen we meer mee:"
   ]
  },
  {
   "cell_type": "code",
   "execution_count": null,
   "metadata": {},
   "outputs": [],
   "source": [
    "print('Variabele a + b = ', a + int(b))"
   ]
  },
  {
   "cell_type": "markdown",
   "metadata": {},
   "source": [
    "```{exercise}\n",
    "Leg uit waarom de eerste $a$ en $b$ niet als getal geprint worden.\n",
    "```\n",
    "\n",
    "```{exercise}\n",
    "Wat gebeurt er wanneer je variabele $c$ converteert naar het type integer?\n",
    "```\n",
    "\n",
    "Wat wellicht opvalt is dat je op deze manier dus strings en wiskundige bewerkingen kunt samenvoegen. Wat niet direct opvalt, is dat er kennelijk sprake is van een geheugen. In de hele code cell hebben we niet gespecificeerd wat $a$ en $b$ zijn. Die zijn in het geheugen opgeslagen. Wil je in een keer weten welke variabelen er zijn opgeslagen in het geheugen, en van welk type deze variabelen zijn, kun je het commando `%whos` gebruiken:"
   ]
  },
  {
   "cell_type": "code",
   "execution_count": null,
   "metadata": {},
   "outputs": [],
   "source": [
    "%whos"
   ]
  },
  {
   "cell_type": "markdown",
   "metadata": {},
   "source": [
    "Nu we iets weten van de verschillende types kunnen we een voorspelling doen wat de uitkomst is van verschillende wiskundige bewerkingen.\n",
    "\n",
    "```{exercise}\n",
    "Voorspel wat de uitkomst is van onderstaande wiskundige bewerkingen.\n",
    "```"
   ]
  },
  {
   "cell_type": "code",
   "execution_count": 5,
   "metadata": {},
   "outputs": [
    {
     "name": "stdout",
     "output_type": "stream",
     "text": [
      "4.0\n",
      "7.5\n",
      "9\n",
      "3.25\n",
      "1\n",
      "3\n",
      "4\n"
     ]
    }
   ],
   "source": [
    "a = 2.5\n",
    "b = 1.5\n",
    "c = 3\n",
    "d = 2\n",
    "e = 4j\n",
    "\n",
    "print(a+b)\n",
    "print(a*c)\n",
    "print(c**d)\n",
    "print(a+b/d)\n",
    "print(c%d)\n",
    "print(int(a)+int(b))\n",
    "print(int(a+b))\n",
    "print(d+e)"
   ]
  },
  {
   "cell_type": "markdown",
   "metadata": {},
   "source": [
    "Bespreek de wiskundige bewerkingen die je niet begrijpt.\n",
    "\n",
    "Een data-type die we nog niet hebben gezien maar veel gebruikt wordt is de lijst. In een lijst kunnen we meer informatie (variabelen) opslaan. Die variabelen kunnen dan ook weer van verschillende type zijn.\n",
    "\n",
    "```{exercise}\n",
    "Bekijk de onderste lijst. Welke typen herken je? Controleer door de cell te runnen.\n",
    "```"
   ]
  },
  {
   "cell_type": "code",
   "execution_count": null,
   "metadata": {},
   "outputs": [],
   "source": [
    "Person_1 = ['Feek','Pols','Lorentzweg',1,'Delft']\n",
    "print(Person_1)\n",
    "print(type(Person_1), type(Person_1[0]), type(Person_1[3]))\n",
    "\n",
    "# Jouw aanpassing\n"
   ]
  },
  {
   "cell_type": "markdown",
   "metadata": {},
   "source": [
    "```{exercise}\n",
    "Er is een typefout geslopen in de voornaam van Person_1. Schrijf op regel 6 de code die deze fout herstelt (de persoon heet Freek).\n",
    "```"
   ]
  },
  {
   "cell_type": "code",
   "execution_count": null,
   "metadata": {},
   "outputs": [],
   "source": [
    "a = [0,2,3]\n",
    "print(a*2)\n",
    "print(a[1]*2)"
   ]
  }
 ],
 "metadata": {
  "kernelspec": {
   "display_name": "base",
   "language": "python",
   "name": "python3"
  },
  "language_info": {
   "codemirror_mode": {
    "name": "ipython",
    "version": 3
   },
   "file_extension": ".py",
   "mimetype": "text/x-python",
   "name": "python",
   "nbconvert_exporter": "python",
   "pygments_lexer": "ipython3",
   "version": "3.9.16"
  }
 },
 "nbformat": 4,
 "nbformat_minor": 2
}
